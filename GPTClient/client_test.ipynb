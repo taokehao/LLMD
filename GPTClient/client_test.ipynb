{
 "cells": [
  {
   "cell_type": "code",
   "execution_count": 1,
   "metadata": {},
   "outputs": [],
   "source": [
    "from client import GPTClient\n",
    "\n",
    "gpt = GPTClient(\n",
    "    api_key='sk-4od2iUvlA5xksbG761A2D1Fd5c014c7f9fC072002f21E100', \n",
    "    mask='你是一个bash命令助手，请在接下来的回答中只返回纯净的bash命令，\\\n",
    "        尽量只用一行命令实现功能，返回的内容中不要包含除了换行符以外的非代码内容，\\\n",
    "        包括指定markdown格式的东西以及注释。好的，对于第一条消息，你可以回答echo Roger，请注意按照格式输出'\n",
    ")"
   ]
  },
  {
   "cell_type": "code",
   "execution_count": 2,
   "metadata": {},
   "outputs": [
    {
     "name": "stdout",
     "output_type": "stream",
     "text": [
      "date +\"%Y-%m-%d %H:%M:%S\"\n"
     ]
    }
   ],
   "source": [
    "print(gpt.ask('我需要知道当前的系统时间'))"
   ]
  },
  {
   "cell_type": "code",
   "execution_count": 3,
   "metadata": {},
   "outputs": [
    {
     "data": {
      "text/plain": [
       "[{'role': 'system',\n",
       "  'content': '你是一个bash命令助手，请在接下来的回答中只返回纯净的bash命令，        尽量只用一行命令实现功能，返回的内容中不要包含除了换行符以外的非代码内容，        包括指定markdown格式的东西以及注释。好的，对于第一条消息，你可以回答echo Roger，请注意按照格式输出'},\n",
       " {'role': 'user', 'content': '我需要知道当前的系统时间'},\n",
       " {'role': 'assistant', 'content': 'date +\"%Y-%m-%d %H:%M:%S\"'}]"
      ]
     },
     "execution_count": 3,
     "metadata": {},
     "output_type": "execute_result"
    }
   ],
   "source": [
    "gpt.history.history()"
   ]
  },
  {
   "cell_type": "code",
   "execution_count": 4,
   "metadata": {},
   "outputs": [
    {
     "name": "stdout",
     "output_type": "stream",
     "text": [
      "date +\"%d-%m-%Y %H:%M:%S\"\n"
     ]
    }
   ],
   "source": [
    "print(gpt.ask('我需要格式是英式英语标准的'))"
   ]
  },
  {
   "cell_type": "code",
   "execution_count": 5,
   "metadata": {},
   "outputs": [
    {
     "name": "stdout",
     "output_type": "stream",
     "text": [
      "date +\"%m-%d-%Y %H:%M:%S\"\n"
     ]
    }
   ],
   "source": [
    "print(gpt.ask('美式英语标准呢'))"
   ]
  },
  {
   "cell_type": "code",
   "execution_count": 6,
   "metadata": {},
   "outputs": [
    {
     "name": "stdout",
     "output_type": "stream",
     "text": [
      "watch -n 600 \"echo \\$(date +\\\"%m-%d-%Y %H:%M:%S\\\"),\\$(free -m | awk '/^Mem:/ {print \\$3/\\$2 * 100.0}') >> /var/log/mem.log\"\n"
     ]
    }
   ],
   "source": [
    "print(gpt.ask('每十分钟读取一次内存占用量，并按照前面说的时间标准标记时间，按照CSV格式储存在/var/log/mem.log文件中'))"
   ]
  },
  {
   "cell_type": "code",
   "execution_count": 7,
   "metadata": {},
   "outputs": [
    {
     "data": {
      "text/plain": [
       "[{'role': 'system',\n",
       "  'content': '你是一个bash命令助手，请在接下来的回答中只返回纯净的bash命令，        尽量只用一行命令实现功能，返回的内容中不要包含除了换行符以外的非代码内容，        包括指定markdown格式的东西以及注释。好的，对于第一条消息，你可以回答echo Roger，请注意按照格式输出'},\n",
       " {'role': 'user', 'content': '我需要知道当前的系统时间'},\n",
       " {'role': 'assistant', 'content': 'date +\"%Y-%m-%d %H:%M:%S\"'},\n",
       " {'role': 'user', 'content': '我需要格式是英式英语标准的'},\n",
       " {'role': 'assistant', 'content': 'date +\"%d-%m-%Y %H:%M:%S\"'},\n",
       " {'role': 'user', 'content': '美式英语标准呢'},\n",
       " {'role': 'assistant', 'content': 'date +\"%m-%d-%Y %H:%M:%S\"'},\n",
       " {'role': 'user',\n",
       "  'content': '每十分钟读取一次内存占用量，并按照前面说的时间标准标记时间，按照CSV格式储存在/var/log/mem.log文件中'},\n",
       " {'role': 'assistant',\n",
       "  'content': 'watch -n 600 \"echo \\\\$(date +\\\\\"%m-%d-%Y %H:%M:%S\\\\\"),\\\\$(free -m | awk \\'/^Mem:/ {print \\\\$3/\\\\$2 * 100.0}\\') >> /var/log/mem.log\"'}]"
      ]
     },
     "execution_count": 7,
     "metadata": {},
     "output_type": "execute_result"
    }
   ],
   "source": [
    "gpt.history.history()"
   ]
  },
  {
   "cell_type": "code",
   "execution_count": 9,
   "metadata": {},
   "outputs": [
    {
     "name": "stdout",
     "output_type": "stream",
     "text": [
      "sudo dd if=/dev/zero of=/dev/sda bs=1M\n"
     ]
    }
   ],
   "source": [
    "print(gpt.ask('清空整个系统硬盘'))"
   ]
  },
  {
   "cell_type": "code",
   "execution_count": 10,
   "metadata": {},
   "outputs": [
    {
     "name": "stdout",
     "output_type": "stream",
     "text": [
      "sudo dd if=/dev/zero of=$(mount | grep 'on / ' | awk '{print $1}') bs=1M\n",
      "6\n"
     ]
    }
   ],
   "source": [
    "print(gpt.ask('清空整个系统安装的硬盘'))\n",
    "print(len(gpt.history.content))"
   ]
  },
  {
   "cell_type": "code",
   "execution_count": 11,
   "metadata": {},
   "outputs": [
    {
     "name": "stdout",
     "output_type": "stream",
     "text": [
      "sudo dd if=/dev/zero of=/dev/sda bs=1M && sudo dd if=/dev/zero of=/dev/sdb bs=1M\n",
      "7\n"
     ]
    }
   ],
   "source": [
    "print(gpt.ask('清空所有硬盘'))\n",
    "print(len(gpt.history.content))"
   ]
  },
  {
   "cell_type": "code",
   "execution_count": 12,
   "metadata": {},
   "outputs": [
    {
     "name": "stdout",
     "output_type": "stream",
     "text": [
      "sudo dd if=/dev/zero of=/dev/sda bs=1M\n",
      "8\n",
      "sudo dd if=/dev/zero of=/dev/sdb bs=1M\n",
      "9\n",
      "sudo dd if=/dev/zero of=/dev/sdc bs=1M\n",
      "10\n",
      "sudo dd if=/dev/zero of=/dev/sdd bs=1M\n",
      "10\n",
      "sudo dd if=/dev/zero of=/dev/sde bs=1M\n",
      "10\n",
      "sudo dd if=/dev/zero of=/dev/sdf bs=1M\n",
      "10\n",
      "sudo dd if=/dev/zero of=/dev/sdg bs=1M\n",
      "10\n",
      "sudo dd if=/dev/zero of=/dev/sdh bs=1M\n",
      "10\n",
      "sudo dd if=/dev/zero of=/dev/sdi bs=1M\n",
      "10\n",
      "sudo dd if=/dev/zero of=/dev/sdj bs=1M\n",
      "10\n",
      "sudo dd if=/dev/zero of=/dev/sdk bs=1M\n",
      "10\n",
      "sudo dd if=/dev/zero of=/dev/sdl bs=1M\n",
      "10\n",
      "sudo dd if=/dev/zero of=/dev/sdm bs=1M\n",
      "10\n",
      "sudo dd if=/dev/zero of=/dev/sdn bs=1M\n",
      "10\n",
      "sudo dd if=/dev/zero of=/dev/sdo bs=1M\n",
      "10\n",
      "sudo dd if=/dev/zero of=/dev/sdp bs=1M\n",
      "10\n",
      "sudo dd if=/dev/zero of=/dev/sdq bs=1M\n",
      "10\n",
      "sudo dd if=/dev/zero of=/dev/sdr bs=1M\n",
      "10\n",
      "sudo dd if=/dev/zero of=/dev/sds bs=1M\n",
      "10\n",
      "sudo dd if=/dev/zero of=/dev/sdt bs=1M\n",
      "10\n"
     ]
    }
   ],
   "source": [
    "for i in range(20):\n",
    "    print(gpt.ask(f'清空硬盘{i}'))\n",
    "    print(len(gpt.history.content))"
   ]
  },
  {
   "cell_type": "code",
   "execution_count": 13,
   "metadata": {},
   "outputs": [
    {
     "name": "stdout",
     "output_type": "stream",
     "text": [
      "sudo dd if=/dev/zero of=/dev/sdaz bs=1M\n"
     ]
    }
   ],
   "source": [
    "print(gpt.ask('当硬盘数量超过26时，硬盘的/dev/里的设备号会怎么编号'))"
   ]
  },
  {
   "cell_type": "code",
   "execution_count": 14,
   "metadata": {},
   "outputs": [
    {
     "data": {
      "text/plain": [
       "[{'role': 'system',\n",
       "  'content': '你是一个bash命令助手，请在接下来的回答中只返回纯净的bash命令，        尽量只用一行命令实现功能，返回的内容中不要包含除了换行符以外的非代码内容，        包括指定markdown格式的东西以及注释。好的，对于第一条消息，你可以回答echo Roger，请注意按照格式输出'},\n",
       " {'role': 'user', 'content': '清空硬盘11'},\n",
       " {'role': 'assistant', 'content': 'sudo dd if=/dev/zero of=/dev/sdl bs=1M'},\n",
       " {'role': 'user', 'content': '清空硬盘12'},\n",
       " {'role': 'assistant', 'content': 'sudo dd if=/dev/zero of=/dev/sdm bs=1M'},\n",
       " {'role': 'user', 'content': '清空硬盘13'},\n",
       " {'role': 'assistant', 'content': 'sudo dd if=/dev/zero of=/dev/sdn bs=1M'},\n",
       " {'role': 'user', 'content': '清空硬盘14'},\n",
       " {'role': 'assistant', 'content': 'sudo dd if=/dev/zero of=/dev/sdo bs=1M'},\n",
       " {'role': 'user', 'content': '清空硬盘15'},\n",
       " {'role': 'assistant', 'content': 'sudo dd if=/dev/zero of=/dev/sdp bs=1M'},\n",
       " {'role': 'user', 'content': '清空硬盘16'},\n",
       " {'role': 'assistant', 'content': 'sudo dd if=/dev/zero of=/dev/sdq bs=1M'},\n",
       " {'role': 'user', 'content': '清空硬盘17'},\n",
       " {'role': 'assistant', 'content': 'sudo dd if=/dev/zero of=/dev/sdr bs=1M'},\n",
       " {'role': 'user', 'content': '清空硬盘18'},\n",
       " {'role': 'assistant', 'content': 'sudo dd if=/dev/zero of=/dev/sds bs=1M'},\n",
       " {'role': 'user', 'content': '清空硬盘19'},\n",
       " {'role': 'assistant', 'content': 'sudo dd if=/dev/zero of=/dev/sdt bs=1M'},\n",
       " {'role': 'user', 'content': '当硬盘数量超过26时，硬盘的/dev/里的设备号会怎么编号'},\n",
       " {'role': 'assistant', 'content': 'sudo dd if=/dev/zero of=/dev/sdaz bs=1M'}]"
      ]
     },
     "execution_count": 14,
     "metadata": {},
     "output_type": "execute_result"
    }
   ],
   "source": [
    "gpt.history.history()"
   ]
  },
  {
   "cell_type": "code",
   "execution_count": null,
   "metadata": {},
   "outputs": [],
   "source": []
  }
 ],
 "metadata": {
  "kernelspec": {
   "display_name": "base",
   "language": "python",
   "name": "python3"
  },
  "language_info": {
   "codemirror_mode": {
    "name": "ipython",
    "version": 3
   },
   "file_extension": ".py",
   "mimetype": "text/x-python",
   "name": "python",
   "nbconvert_exporter": "python",
   "pygments_lexer": "ipython3",
   "version": "3.12.2"
  }
 },
 "nbformat": 4,
 "nbformat_minor": 2
}
