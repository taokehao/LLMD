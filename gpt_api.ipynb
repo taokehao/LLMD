{
 "cells": [
  {
   "cell_type": "code",
   "id": "730e1123-23f8-4080-be08-6b2ba50cf8ed",
   "metadata": {},
   "source": [
    "import requests\n",
    "import json\n",
    "\n",
    "# 设置API密钥\n",
    "api_key = 'sk-4od2iUvlA5xksbG761A2D1Fd5c014c7f9fC072002f21E100'\n",
    "entry = 'https://tb.plus7.plus/v1/chat/completions'\n",
    "headers = {\n",
    "    'Content-Type': 'application/json',\n",
    "    'Authorization': f'Bearer {api_key}'\n",
    "}\n",
    "\n",
    "# 请求数据\n",
    "data = {\n",
    "    \"model\": \"gpt-4o\",\n",
    "    \"messages\": [\n",
    "        {\"role\": \"system\", \"content\": \"你是计算机\"},\n",
    "        {\"role\": \"user\", \"content\": \"讲个笑话\"}\n",
    "    ]\n",
    "}\n",
    "\n",
    "# 发送请求\n",
    "response = requests.post(\n",
    "    entry,\n",
    "    headers=headers,\n",
    "    data=json.dumps(data)\n",
    ")\n",
    "\n",
    "# 处理响应\n",
    "if response.status_code == 200:\n",
    "    result = response.json()\n",
    "    print(result['choices'][0]['message']['content'])\n",
    "else:\n",
    "    print(f\"请求失败: {response.status_code}\")\n",
    "    print(response.text)\n"
   ],
   "outputs": [],
   "execution_count": null
  },
  {
   "cell_type": "code",
   "id": "5894ca5c-44fd-45cc-870a-9bb124f76978",
   "metadata": {},
   "source": "response.json()['choices'][0]['message']['content'].strip()",
   "outputs": [],
   "execution_count": null
  },
  {
   "cell_type": "code",
   "id": "e1b05c42-563b-4a98-bba6-7f0de4e7c39a",
   "metadata": {
    "ExecuteTime": {
     "end_time": "2024-10-29T08:16:05.271927Z",
     "start_time": "2024-10-29T08:16:05.098405Z"
    }
   },
   "source": "response.choices[0].message.content.strip()",
   "outputs": [
    {
     "ename": "AttributeError",
     "evalue": "'Response' object has no attribute 'choices'",
     "output_type": "error",
     "traceback": [
      "\u001B[0;31m---------------------------------------------------------------------------\u001B[0m",
      "\u001B[0;31mAttributeError\u001B[0m                            Traceback (most recent call last)",
      "Cell \u001B[0;32mIn[5], line 1\u001B[0m\n\u001B[0;32m----> 1\u001B[0m \u001B[43mresponse\u001B[49m\u001B[38;5;241;43m.\u001B[39;49m\u001B[43mchoices\u001B[49m[\u001B[38;5;241m0\u001B[39m]\u001B[38;5;241m.\u001B[39mmessage\u001B[38;5;241m.\u001B[39mcontent\u001B[38;5;241m.\u001B[39mstrip()\n",
      "\u001B[0;31mAttributeError\u001B[0m: 'Response' object has no attribute 'choices'"
     ]
    }
   ],
   "execution_count": 5
  },
  {
   "metadata": {
    "ExecuteTime": {
     "end_time": "2024-10-29T08:17:08.638312Z",
     "start_time": "2024-10-29T08:17:08.633518Z"
    }
   },
   "cell_type": "code",
   "source": "print(response.json())",
   "id": "a1b78a25dd25257b",
   "outputs": [
    {
     "data": {
      "text/plain": [
       "{'id': 'chatcmpl-ANbg496KuxIp4StP8greS8SA3LyIb',\n",
       " 'object': 'chat.completion',\n",
       " 'created': 1730189740,\n",
       " 'model': 'gpt-4o-2024-05-13',\n",
       " 'choices': [{'index': 0,\n",
       "   'message': {'role': 'assistant',\n",
       "    'content': '有一天，一个程序员走进了一家咖啡店，对服务员说：“给我一杯咖啡，别忘了加奶。”  \\n服务员回答道：“没问题，那你需要多少奶？”  \\n程序员不耐烦地回答：“哪种需要？无论多少都是0或1。”'},\n",
       "   'logprobs': None,\n",
       "   'finish_reason': 'stop'}],\n",
       " 'usage': {'prompt_tokens': 19, 'completion_tokens': 67, 'total_tokens': 86},\n",
       " 'system_fingerprint': 'fp_67802d9a6d'}"
      ]
     },
     "execution_count": 6,
     "metadata": {},
     "output_type": "execute_result"
    }
   ],
   "execution_count": 6
  },
  {
   "metadata": {},
   "cell_type": "code",
   "outputs": [],
   "execution_count": null,
   "source": "",
   "id": "44c06b4e22113d31"
  }
 ],
 "metadata": {
  "kernelspec": {
   "display_name": "Python 3 (ipykernel)",
   "language": "python",
   "name": "python3"
  },
  "language_info": {
   "codemirror_mode": {
    "name": "ipython",
    "version": 3
   },
   "file_extension": ".py",
   "mimetype": "text/x-python",
   "name": "python",
   "nbconvert_exporter": "python",
   "pygments_lexer": "ipython3",
   "version": "3.12.2"
  }
 },
 "nbformat": 4,
 "nbformat_minor": 5
}
